{
 "cells": [
  {
   "cell_type": "markdown",
   "id": "99fe53ba",
   "metadata": {},
   "source": [
    "# Segunda entrega"
   ]
  },
  {
   "cell_type": "code",
   "execution_count": 47,
   "id": "51b37f8f",
   "metadata": {},
   "outputs": [],
   "source": [
    "#esta funcion devuelve la sumatoria de los valores dentro de la lista \n",
    "def sumatoria (resultados):\n",
    "    suma = 0    \n",
    "    for z in resultados:\n",
    "        suma += z[1]\n",
    "    return suma"
   ]
  },
  {
   "cell_type": "code",
   "execution_count": 51,
   "id": "f108a21e",
   "metadata": {
    "scrolled": true
   },
   "outputs": [
    {
     "name": "stdout",
     "output_type": "stream",
     "text": [
      "Los alumnos que tienen una nota por debajo del promedio son:\n",
      " 'CESAR'\n",
      " 'Diego'\n",
      " 'Dolores'\n",
      " 'DYLAN'\n",
      " 'ELIANA'\n",
      " 'Emanuel'\n",
      " 'GONZALO'\n",
      " 'Gregorio'\n",
      " 'Ignacio'\n",
      " 'Jonathan'\n",
      " 'Jorge'\n",
      " 'JUAN'\n",
      " 'Julian'\n",
      " 'Leonel'\n",
      " 'Nicolás'\n",
      " 'NICOLÁS'\n",
      " 'Priscila'\n",
      " 'Yanina'\n"
     ]
    }
   ],
   "source": [
    "# Ejercicio 10 practica 2\n",
    "import csv\n",
    "# Apertura de los archivos y tratamiento de los datos\n",
    "f = open ('C:\\\\Users\\Fernando\\\\Desktop\\\\Seminario de Lenguaje Python 2022\\\\eval1.txt','r')\n",
    "g = open('C:\\\\Users\\Fernando\\\\Desktop\\\\Seminario de Lenguaje Python 2022\\\\eval2.txt','r')\n",
    "h = open('C:\\\\Users\\Fernando\\\\Desktop\\\\Seminario de Lenguaje Python 2022\\\\nombres_1.txt',encoding='utf-8')\n",
    "notas1 = csv.reader(f, delimiter=',')\n",
    "notas2 = csv.reader(g, delimiter = ',')\n",
    "nombres1 = csv.reader(h, delimiter = ',')\n",
    "#creacion de la estructura para almacenar cada estudiante con la sumatoria de sus notas\n",
    "resultados = []\n",
    "\n",
    "#generacion de la lista con los nombres de los alumnos y sus correspondientes notas\n",
    "for x in nombres1:\n",
    "    resultados.append([x[0],(int(next(notas1)[0]) + int(next(notas2)[0]))])\n",
    "\n",
    "#se calcula el promedio de las notas\n",
    "avg =sumatoria(resultados)/len(resultados)\n",
    "\n",
    "#se recorre la lista de resultados y se imprime todos aquellos alumnos que obtuvieron notas por debajo del promedio\n",
    "print(\"Los alumnos que tienen una nota por debajo del promedio son:\")\n",
    "for ñ in resultados:\n",
    "    if (ñ[1] < avg):\n",
    "        print(ñ[0])\n",
    "\n",
    "#se cierran los archivos de texto    \n",
    "f.close()\n",
    "g.close()\n",
    "h.close()\n"
   ]
  },
  {
   "cell_type": "code",
   "execution_count": null,
   "id": "55e9b18e",
   "metadata": {},
   "outputs": [],
   "source": []
  }
 ],
 "metadata": {
  "kernelspec": {
   "display_name": "Python 3 (ipykernel)",
   "language": "python",
   "name": "python3"
  },
  "language_info": {
   "codemirror_mode": {
    "name": "ipython",
    "version": 3
   },
   "file_extension": ".py",
   "mimetype": "text/x-python",
   "name": "python",
   "nbconvert_exporter": "python",
   "pygments_lexer": "ipython3",
   "version": "3.10.2"
  }
 },
 "nbformat": 4,
 "nbformat_minor": 5
}
